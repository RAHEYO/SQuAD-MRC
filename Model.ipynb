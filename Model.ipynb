{
  "nbformat": 4,
  "nbformat_minor": 0,
  "metadata": {
    "colab": {
      "provenance": [],
      "authorship_tag": "ABX9TyPJpOx3JrSVTjEbFTpXeqWA",
      "include_colab_link": true
    },
    "kernelspec": {
      "name": "python3",
      "display_name": "Python 3"
    },
    "language_info": {
      "name": "python"
    }
  },
  "cells": [
    {
      "cell_type": "markdown",
      "metadata": {
        "id": "view-in-github",
        "colab_type": "text"
      },
      "source": [
        "<a href=\"https://colab.research.google.com/github/RAHEYO/SQuAD-MRC/blob/main/Model.ipynb\" target=\"_parent\"><img src=\"https://colab.research.google.com/assets/colab-badge.svg\" alt=\"Open In Colab\"/></a>"
      ]
    },
    {
      "cell_type": "markdown",
      "source": [
        "# Installation\n"
      ],
      "metadata": {
        "id": "1y_xbbUvNyjI"
      }
    },
    {
      "cell_type": "code",
      "execution_count": null,
      "metadata": {
        "id": "_8xlwmQ0NNvc"
      },
      "outputs": [],
      "source": [
        "# prompt: install tensorflow, pennylane, and all the related libraries that may be needed to use those two libraries.\n",
        "\n",
        "!pip install autograd tensorflow jax jaxlib\n",
        "!pip install pennylane\n",
        "!pip install pennylane-lightning pennylane-lightning[gpu]\n",
        "!pip install numpy\n",
        "\n"
      ]
    },
    {
      "cell_type": "code",
      "source": [
        "# prompt: import tensorflow and pennylane\n",
        "\n",
        "import tensorflow as tf\n",
        "import pennylane as qml\n",
        "import numpy as np\n"
      ],
      "metadata": {
        "id": "RE5Y2l6VNdSn"
      },
      "execution_count": null,
      "outputs": []
    },
    {
      "cell_type": "markdown",
      "source": [
        "# Data Prep"
      ],
      "metadata": {
        "id": "DdA-6nAFOLAX"
      }
    },
    {
      "cell_type": "code",
      "source": [
        "\n",
        "dev = qml.device(\"default.qubit\", wires=2)\n",
        "\n",
        "@qml.qnode(dev)\n",
        "def circuit(params):\n",
        "    # ...\n"
      ],
      "metadata": {
        "id": "udEK7CNANnKs"
      },
      "execution_count": null,
      "outputs": []
    }
  ]
}